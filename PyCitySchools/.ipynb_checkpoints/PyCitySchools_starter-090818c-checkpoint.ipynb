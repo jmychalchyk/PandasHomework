{
 "cells": [
  {
   "cell_type": "markdown",
   "metadata": {},
   "source": [
    "# PyCity Schools Analysis\n",
    "\n",
    "* As a whole, schools with higher budgets, did not yield better test results. By contrast, schools with higher spending per student actually (\\$645-675) underperformed compared to schools with smaller budgets (<\\$585 per student).\n",
    "\n",
    "* As a whole, smaller and medium sized schools dramatically out-performed large sized schools on passing math performances (89-91% passing vs 67%).\n",
    "\n",
    "* As a whole, charter schools out-performed the public district schools across all metrics. However, more analysis will be required to glean if the effect is due to school practices or the fact that charter schools tend to serve smaller student populations per school. \n",
    "---"
   ]
  },
  {
   "cell_type": "markdown",
   "metadata": {},
   "source": [
    "### Note\n",
    "* Instructions have been included for each segment. You do not have to follow them exactly, but they are included to help you think through the steps."
   ]
  },
  {
   "cell_type": "markdown",
   "metadata": {},
   "source": [
    "## District Summary\n",
    "\n",
    "* Calculate the total number of schools\n",
    "\n",
    "* Calculate the total number of students\n",
    "\n",
    "* Calculate the total budget\n",
    "\n",
    "* Calculate the average math score \n",
    "\n",
    "* Calculate the average reading score\n",
    "\n",
    "* Calculate the overall passing rate (overall average score), i.e. (avg. math score + avg. reading score)/2\n",
    "\n",
    "* Calculate the percentage of students with a passing math score (70 or greater)\n",
    "\n",
    "* Calculate the percentage of students with a passing reading score (70 or greater)\n",
    "\n",
    "* Create a dataframe to hold the above results\n",
    "\n",
    "* Optional: give the displayed data cleaner formatting"
   ]
  },
  {
   "cell_type": "code",
   "execution_count": 1,
   "metadata": {},
   "outputs": [],
   "source": [
    "# Dependencies and Setup\n",
    "import pandas as pd\n",
    "import numpy as np\n",
    "\n",
    "# File to Load (Remember to Change These)\n",
    "school_data_to_load = \"Resources/schools_complete.csv\"\n",
    "student_data_to_load = \"Resources/students_complete.csv\"\n",
    "\n",
    "# Read School and Student Data File and store into Pandas Data Frames\n",
    "school_data = pd.read_csv(school_data_to_load)\n",
    "student_data = pd.read_csv(student_data_to_load)\n",
    "\n",
    "# Combine the data into a single dataset\n",
    "school_data_complete = pd.merge(student_data, school_data, how=\"left\", on=[\"school_name\", \"school_name\"])"
   ]
  },
  {
   "cell_type": "code",
   "execution_count": 2,
   "metadata": {},
   "outputs": [],
   "source": [
    "lstschools=school_data_complete['school_name'].unique()\n",
    "totschools =len(lstschools)"
   ]
  },
  {
   "cell_type": "code",
   "execution_count": 3,
   "metadata": {},
   "outputs": [],
   "source": [
    "totstudents = school_data_complete['student_name'].count()"
   ]
  },
  {
   "cell_type": "code",
   "execution_count": 4,
   "metadata": {},
   "outputs": [],
   "source": [
    "dfsummary = school_data_complete[['school_name', 'budget']]"
   ]
  },
  {
   "cell_type": "code",
   "execution_count": 5,
   "metadata": {},
   "outputs": [
    {
     "name": "stderr",
     "output_type": "stream",
     "text": [
      "C:\\Users\\jeff\\Anaconda3\\lib\\site-packages\\ipykernel_launcher.py:1: SettingWithCopyWarning: \n",
      "A value is trying to be set on a copy of a slice from a DataFrame\n",
      "\n",
      "See the caveats in the documentation: http://pandas.pydata.org/pandas-docs/stable/indexing.html#indexing-view-versus-copy\n",
      "  \"\"\"Entry point for launching an IPython kernel.\n"
     ]
    }
   ],
   "source": [
    "dfsummary.drop_duplicates(inplace =True)"
   ]
  },
  {
   "cell_type": "code",
   "execution_count": 6,
   "metadata": {},
   "outputs": [],
   "source": [
    "totalbudget=dfsummary['budget'].sum()"
   ]
  },
  {
   "cell_type": "code",
   "execution_count": 7,
   "metadata": {},
   "outputs": [],
   "source": [
    "avgmath =school_data_complete['math_score'].mean()\n",
    "avgreading =school_data_complete['reading_score'].mean()"
   ]
  },
  {
   "cell_type": "code",
   "execution_count": 8,
   "metadata": {},
   "outputs": [],
   "source": [
    "overallpassrate = (avgmath + avgreading)/2"
   ]
  },
  {
   "cell_type": "code",
   "execution_count": 9,
   "metadata": {},
   "outputs": [],
   "source": [
    "mathovr70 = school_data_complete.loc[school_data_complete['math_score']>70]\n",
    "readovr70 = school_data_complete.loc[school_data_complete['reading_score']>70]"
   ]
  },
  {
   "cell_type": "code",
   "execution_count": 10,
   "metadata": {},
   "outputs": [],
   "source": [
    "passmath =(mathovr70['student_name'].count()/ totstudents)*100\n",
    "passread =(readovr70['student_name'].count()/ totstudents)*100"
   ]
  },
  {
   "cell_type": "code",
   "execution_count": 11,
   "metadata": {},
   "outputs": [
    {
     "data": {
      "text/html": [
       "<div>\n",
       "<style scoped>\n",
       "    .dataframe tbody tr th:only-of-type {\n",
       "        vertical-align: middle;\n",
       "    }\n",
       "\n",
       "    .dataframe tbody tr th {\n",
       "        vertical-align: top;\n",
       "    }\n",
       "\n",
       "    .dataframe thead th {\n",
       "        text-align: right;\n",
       "    }\n",
       "</style>\n",
       "<table border=\"1\" class=\"dataframe\">\n",
       "  <thead>\n",
       "    <tr style=\"text-align: right;\">\n",
       "      <th></th>\n",
       "      <th>Average Math Score</th>\n",
       "      <th>Average Reading Score</th>\n",
       "      <th>Overall Passing Rate</th>\n",
       "      <th>Percent Who Passed Math</th>\n",
       "      <th>Percent Who Passed Reading</th>\n",
       "      <th>Total Budget</th>\n",
       "      <th>Total Number of Schools</th>\n",
       "      <th>Total Number of Students</th>\n",
       "    </tr>\n",
       "  </thead>\n",
       "  <tbody>\n",
       "    <tr>\n",
       "      <th>0</th>\n",
       "      <td>78.985371</td>\n",
       "      <td>81.87784</td>\n",
       "      <td>80.431606</td>\n",
       "      <td>72.392137</td>\n",
       "      <td>82.971662</td>\n",
       "      <td>24649428</td>\n",
       "      <td>15</td>\n",
       "      <td>39170</td>\n",
       "    </tr>\n",
       "  </tbody>\n",
       "</table>\n",
       "</div>"
      ],
      "text/plain": [
       "   Average Math Score  Average Reading Score  Overall Passing Rate  \\\n",
       "0           78.985371               81.87784             80.431606   \n",
       "\n",
       "   Percent Who Passed Math  Percent Who Passed Reading  Total Budget  \\\n",
       "0                72.392137                   82.971662      24649428   \n",
       "\n",
       "   Total Number of Schools  Total Number of Students  \n",
       "0                       15                     39170  "
      ]
     },
     "execution_count": 11,
     "metadata": {},
     "output_type": "execute_result"
    }
   ],
   "source": [
    "dffinal=pd.DataFrame([{'Total Number of Schools':totschools,'Total Number of Students':totstudents,'Total Budget':totalbudget,'Average Math Score':avgmath,'Average Reading Score':avgreading,'Overall Passing Rate':overallpassrate,'Percent Who Passed Math':passmath,'Percent Who Passed Reading':passread}])\n",
    "dffinal"
   ]
  },
  {
   "cell_type": "code",
   "execution_count": 12,
   "metadata": {},
   "outputs": [],
   "source": [
    "dffinal['Total Budget']               = dffinal['Total Budget'].map('${:,.2f}'.format)\n",
    "dffinal['Average Math Score']         = dffinal['Average Math Score'].map('{0:,.2f}%'.format)\n",
    "dffinal['Average Reading Score']      = dffinal['Average Reading Score'].map('{0:,.2f}%'.format)\n",
    "dffinal['Overall Passing Rate']       = dffinal['Overall Passing Rate'].map('{0:,.2f}%'.format)\n",
    "dffinal['Percent Who Passed Math']    = dffinal['Percent Who Passed Math'].map('{0:,.2f}%'.format)\n",
    "dffinal['Percent Who Passed Reading'] = dffinal['Percent Who Passed Reading'].map(\"{0:.2f}%\".format)\n",
    "\n",
    "#['Average Math Score', 'Average Reading Score', 'Overall Passing Rate',       'Percent Who Passed Math', 'Percent Who Passed Reading', 'Total Budget', 'Total Number of Schools', 'Total Number of Students']"
   ]
  },
  {
   "cell_type": "code",
   "execution_count": 13,
   "metadata": {},
   "outputs": [
    {
     "data": {
      "text/html": [
       "<div>\n",
       "<style scoped>\n",
       "    .dataframe tbody tr th:only-of-type {\n",
       "        vertical-align: middle;\n",
       "    }\n",
       "\n",
       "    .dataframe tbody tr th {\n",
       "        vertical-align: top;\n",
       "    }\n",
       "\n",
       "    .dataframe thead th {\n",
       "        text-align: right;\n",
       "    }\n",
       "</style>\n",
       "<table border=\"1\" class=\"dataframe\">\n",
       "  <thead>\n",
       "    <tr style=\"text-align: right;\">\n",
       "      <th></th>\n",
       "      <th>Average Math Score</th>\n",
       "      <th>Average Reading Score</th>\n",
       "      <th>Overall Passing Rate</th>\n",
       "      <th>Percent Who Passed Math</th>\n",
       "      <th>Percent Who Passed Reading</th>\n",
       "      <th>Total Budget</th>\n",
       "      <th>Total Number of Schools</th>\n",
       "      <th>Total Number of Students</th>\n",
       "    </tr>\n",
       "  </thead>\n",
       "  <tbody>\n",
       "    <tr>\n",
       "      <th>0</th>\n",
       "      <td>78.99%</td>\n",
       "      <td>81.88%</td>\n",
       "      <td>80.43%</td>\n",
       "      <td>72.39%</td>\n",
       "      <td>82.97%</td>\n",
       "      <td>$24,649,428.00</td>\n",
       "      <td>15</td>\n",
       "      <td>39170</td>\n",
       "    </tr>\n",
       "  </tbody>\n",
       "</table>\n",
       "</div>"
      ],
      "text/plain": [
       "  Average Math Score Average Reading Score Overall Passing Rate  \\\n",
       "0             78.99%                81.88%               80.43%   \n",
       "\n",
       "  Percent Who Passed Math Percent Who Passed Reading    Total Budget  \\\n",
       "0                  72.39%                     82.97%  $24,649,428.00   \n",
       "\n",
       "   Total Number of Schools  Total Number of Students  \n",
       "0                       15                     39170  "
      ]
     },
     "execution_count": 13,
     "metadata": {},
     "output_type": "execute_result"
    }
   ],
   "source": [
    "dffinal"
   ]
  },
  {
   "cell_type": "markdown",
   "metadata": {},
   "source": [
    "## School Summary\n",
    "\n",
    "* Create an overview table that summarizes key metrics about each school, including:\n",
    "  * School Name\n",
    "  * School Type\n",
    "  * Total Students\n",
    "  * Total School Budget\n",
    "  * Per Student Budget\n",
    "  * Average Math Score\n",
    "  * Average Reading Score\n",
    "  * % Passing Math\n",
    "  * % Passing Reading\n",
    "  * Overall Passing Rate (Average of the above two)\n",
    "  \n",
    "* Create a dataframe to hold the above results"
   ]
  },
  {
   "cell_type": "code",
   "execution_count": 14,
   "metadata": {},
   "outputs": [],
   "source": [
    "dftop = school_data_complete[['school_name','type','Student ID','budget','math_score','reading_score']]"
   ]
  },
  {
   "cell_type": "code",
   "execution_count": 15,
   "metadata": {},
   "outputs": [],
   "source": [
    "gpdftop= dftop.groupby(['school_name','type','budget'])"
   ]
  },
  {
   "cell_type": "code",
   "execution_count": 16,
   "metadata": {},
   "outputs": [],
   "source": [
    "studcnt=gpdftop['Student ID'].count()"
   ]
  },
  {
   "cell_type": "code",
   "execution_count": 17,
   "metadata": {},
   "outputs": [],
   "source": [
    "perstud=gpdftop['budget'].max()/studcnt"
   ]
  },
  {
   "cell_type": "code",
   "execution_count": 18,
   "metadata": {},
   "outputs": [],
   "source": [
    "avgmathsc=gpdftop['math_score'].mean()\n",
    "avgreadsc=gpdftop['reading_score'].mean()"
   ]
  },
  {
   "cell_type": "code",
   "execution_count": 19,
   "metadata": {},
   "outputs": [],
   "source": [
    "newmathovr70 = school_data_complete.loc[school_data_complete['math_score']>70]\n",
    "mathgp =newmathovr70.groupby(['school_name'])\n",
    "mathover70gp=mathgp['math_score'].count()"
   ]
  },
  {
   "cell_type": "code",
   "execution_count": 20,
   "metadata": {},
   "outputs": [],
   "source": [
    "newreadovr70 = school_data_complete.loc[school_data_complete['math_score']>70]\n",
    "readgp =newreadovr70.groupby(['school_name'])\n",
    "readover70gp=readgp['reading_score'].count()"
   ]
  },
  {
   "cell_type": "code",
   "execution_count": 21,
   "metadata": {},
   "outputs": [],
   "source": [
    "totmathcnt = gpdftop['math_score'].count()\n",
    "totreadcnt = gpdftop['reading_score'].count()"
   ]
  },
  {
   "cell_type": "code",
   "execution_count": 22,
   "metadata": {},
   "outputs": [],
   "source": [
    "pctmath =(mathover70gp / totmathcnt)*100\n",
    "pctread =(readover70gp / totreadcnt)*100"
   ]
  },
  {
   "cell_type": "code",
   "execution_count": 23,
   "metadata": {},
   "outputs": [],
   "source": [
    "overallpassrate2=(pctmath + pctread)/2"
   ]
  },
  {
   "cell_type": "code",
   "execution_count": 24,
   "metadata": {},
   "outputs": [
    {
     "data": {
      "text/html": [
       "<div>\n",
       "<style scoped>\n",
       "    .dataframe tbody tr th:only-of-type {\n",
       "        vertical-align: middle;\n",
       "    }\n",
       "\n",
       "    .dataframe tbody tr th {\n",
       "        vertical-align: top;\n",
       "    }\n",
       "\n",
       "    .dataframe thead th {\n",
       "        text-align: right;\n",
       "    }\n",
       "</style>\n",
       "<table border=\"1\" class=\"dataframe\">\n",
       "  <thead>\n",
       "    <tr style=\"text-align: right;\">\n",
       "      <th></th>\n",
       "      <th></th>\n",
       "      <th></th>\n",
       "      <th>Total Number of Students</th>\n",
       "      <th>Per Student Budget</th>\n",
       "      <th>Average Math Score</th>\n",
       "      <th>Average Reading Score</th>\n",
       "      <th>Overall Passing Rate</th>\n",
       "      <th>Percent Who Passed Math</th>\n",
       "      <th>Percent Who Passed Reading</th>\n",
       "    </tr>\n",
       "    <tr>\n",
       "      <th>school_name</th>\n",
       "      <th>type</th>\n",
       "      <th>budget</th>\n",
       "      <th></th>\n",
       "      <th></th>\n",
       "      <th></th>\n",
       "      <th></th>\n",
       "      <th></th>\n",
       "      <th></th>\n",
       "      <th></th>\n",
       "    </tr>\n",
       "  </thead>\n",
       "  <tbody>\n",
       "    <tr>\n",
       "      <th>Bailey High School</th>\n",
       "      <th>District</th>\n",
       "      <th>3124928</th>\n",
       "      <td>4976</td>\n",
       "      <td>628.0</td>\n",
       "      <td>77.048432</td>\n",
       "      <td>81.033963</td>\n",
       "      <td>64.630225</td>\n",
       "      <td>64.630225</td>\n",
       "      <td>64.630225</td>\n",
       "    </tr>\n",
       "    <tr>\n",
       "      <th>Cabrera High School</th>\n",
       "      <th>Charter</th>\n",
       "      <th>1081356</th>\n",
       "      <td>1858</td>\n",
       "      <td>582.0</td>\n",
       "      <td>83.061895</td>\n",
       "      <td>83.975780</td>\n",
       "      <td>89.558665</td>\n",
       "      <td>89.558665</td>\n",
       "      <td>89.558665</td>\n",
       "    </tr>\n",
       "    <tr>\n",
       "      <th>Figueroa High School</th>\n",
       "      <th>District</th>\n",
       "      <th>1884411</th>\n",
       "      <td>2949</td>\n",
       "      <td>639.0</td>\n",
       "      <td>76.711767</td>\n",
       "      <td>81.158020</td>\n",
       "      <td>63.750424</td>\n",
       "      <td>63.750424</td>\n",
       "      <td>63.750424</td>\n",
       "    </tr>\n",
       "    <tr>\n",
       "      <th>Ford High School</th>\n",
       "      <th>District</th>\n",
       "      <th>1763916</th>\n",
       "      <td>2739</td>\n",
       "      <td>644.0</td>\n",
       "      <td>77.102592</td>\n",
       "      <td>80.746258</td>\n",
       "      <td>65.753925</td>\n",
       "      <td>65.753925</td>\n",
       "      <td>65.753925</td>\n",
       "    </tr>\n",
       "    <tr>\n",
       "      <th>Griffin High School</th>\n",
       "      <th>Charter</th>\n",
       "      <th>917500</th>\n",
       "      <td>1468</td>\n",
       "      <td>625.0</td>\n",
       "      <td>83.351499</td>\n",
       "      <td>83.816757</td>\n",
       "      <td>89.713896</td>\n",
       "      <td>89.713896</td>\n",
       "      <td>89.713896</td>\n",
       "    </tr>\n",
       "  </tbody>\n",
       "</table>\n",
       "</div>"
      ],
      "text/plain": [
       "                                       Total Number of Students  \\\n",
       "school_name          type     budget                              \n",
       "Bailey High School   District 3124928                      4976   \n",
       "Cabrera High School  Charter  1081356                      1858   \n",
       "Figueroa High School District 1884411                      2949   \n",
       "Ford High School     District 1763916                      2739   \n",
       "Griffin High School  Charter  917500                       1468   \n",
       "\n",
       "                                       Per Student Budget  Average Math Score  \\\n",
       "school_name          type     budget                                            \n",
       "Bailey High School   District 3124928               628.0           77.048432   \n",
       "Cabrera High School  Charter  1081356               582.0           83.061895   \n",
       "Figueroa High School District 1884411               639.0           76.711767   \n",
       "Ford High School     District 1763916               644.0           77.102592   \n",
       "Griffin High School  Charter  917500                625.0           83.351499   \n",
       "\n",
       "                                       Average Reading Score  \\\n",
       "school_name          type     budget                           \n",
       "Bailey High School   District 3124928              81.033963   \n",
       "Cabrera High School  Charter  1081356              83.975780   \n",
       "Figueroa High School District 1884411              81.158020   \n",
       "Ford High School     District 1763916              80.746258   \n",
       "Griffin High School  Charter  917500               83.816757   \n",
       "\n",
       "                                       Overall Passing Rate  \\\n",
       "school_name          type     budget                          \n",
       "Bailey High School   District 3124928             64.630225   \n",
       "Cabrera High School  Charter  1081356             89.558665   \n",
       "Figueroa High School District 1884411             63.750424   \n",
       "Ford High School     District 1763916             65.753925   \n",
       "Griffin High School  Charter  917500              89.713896   \n",
       "\n",
       "                                       Percent Who Passed Math  \\\n",
       "school_name          type     budget                             \n",
       "Bailey High School   District 3124928                64.630225   \n",
       "Cabrera High School  Charter  1081356                89.558665   \n",
       "Figueroa High School District 1884411                63.750424   \n",
       "Ford High School     District 1763916                65.753925   \n",
       "Griffin High School  Charter  917500                 89.713896   \n",
       "\n",
       "                                       Percent Who Passed Reading  \n",
       "school_name          type     budget                               \n",
       "Bailey High School   District 3124928                   64.630225  \n",
       "Cabrera High School  Charter  1081356                   89.558665  \n",
       "Figueroa High School District 1884411                   63.750424  \n",
       "Ford High School     District 1763916                   65.753925  \n",
       "Griffin High School  Charter  917500                    89.713896  "
      ]
     },
     "execution_count": 24,
     "metadata": {},
     "output_type": "execute_result"
    }
   ],
   "source": [
    "dfstudfinal = pd.DataFrame({\n",
    "    'Total Number of Students':studcnt,\n",
    "    'Per Student Budget':perstud,\n",
    "    'Average Math Score':avgmathsc,\n",
    "    'Average Reading Score':avgreadsc,\n",
    "    'Overall Passing Rate':overallpassrate2,\n",
    "    'Percent Who Passed Math':pctmath,\n",
    "    'Percent Who Passed Reading':pctread})\n",
    "\n",
    "dfstudfinalunformatted = pd.DataFrame({\n",
    "    'Total Number of Students':studcnt,\n",
    "    'Per Student Budget':perstud,\n",
    "    'Average Math Score':avgmathsc,\n",
    "    'Average Reading Score':avgreadsc,\n",
    "    'Overall Passing Rate':overallpassrate2,\n",
    "    'Percent Who Passed Math':pctmath,\n",
    "    'Percent Who Passed Reading':pctread})\n",
    "dfstudfinal.head()"
   ]
  },
  {
   "cell_type": "code",
   "execution_count": 25,
   "metadata": {},
   "outputs": [
    {
     "data": {
      "text/html": [
       "<div>\n",
       "<style scoped>\n",
       "    .dataframe tbody tr th:only-of-type {\n",
       "        vertical-align: middle;\n",
       "    }\n",
       "\n",
       "    .dataframe tbody tr th {\n",
       "        vertical-align: top;\n",
       "    }\n",
       "\n",
       "    .dataframe thead th {\n",
       "        text-align: right;\n",
       "    }\n",
       "</style>\n",
       "<table border=\"1\" class=\"dataframe\">\n",
       "  <thead>\n",
       "    <tr style=\"text-align: right;\">\n",
       "      <th></th>\n",
       "      <th></th>\n",
       "      <th></th>\n",
       "      <th>Total Number of Students</th>\n",
       "      <th>Per Student Budget</th>\n",
       "      <th>Average Math Score</th>\n",
       "      <th>Average Reading Score</th>\n",
       "      <th>Overall Passing Rate</th>\n",
       "      <th>Percent Who Passed Math</th>\n",
       "      <th>Percent Who Passed Reading</th>\n",
       "    </tr>\n",
       "    <tr>\n",
       "      <th>school_name</th>\n",
       "      <th>type</th>\n",
       "      <th>budget</th>\n",
       "      <th></th>\n",
       "      <th></th>\n",
       "      <th></th>\n",
       "      <th></th>\n",
       "      <th></th>\n",
       "      <th></th>\n",
       "      <th></th>\n",
       "    </tr>\n",
       "  </thead>\n",
       "  <tbody>\n",
       "    <tr>\n",
       "      <th>Bailey High School</th>\n",
       "      <th>District</th>\n",
       "      <th>3124928</th>\n",
       "      <td>4976</td>\n",
       "      <td>$628.00</td>\n",
       "      <td>77.05%</td>\n",
       "      <td>81.03%</td>\n",
       "      <td>64.63%</td>\n",
       "      <td>64.63%</td>\n",
       "      <td>64.63%</td>\n",
       "    </tr>\n",
       "    <tr>\n",
       "      <th>Cabrera High School</th>\n",
       "      <th>Charter</th>\n",
       "      <th>1081356</th>\n",
       "      <td>1858</td>\n",
       "      <td>$582.00</td>\n",
       "      <td>83.06%</td>\n",
       "      <td>83.98%</td>\n",
       "      <td>89.56%</td>\n",
       "      <td>89.56%</td>\n",
       "      <td>89.56%</td>\n",
       "    </tr>\n",
       "    <tr>\n",
       "      <th>Figueroa High School</th>\n",
       "      <th>District</th>\n",
       "      <th>1884411</th>\n",
       "      <td>2949</td>\n",
       "      <td>$639.00</td>\n",
       "      <td>76.71%</td>\n",
       "      <td>81.16%</td>\n",
       "      <td>63.75%</td>\n",
       "      <td>63.75%</td>\n",
       "      <td>63.75%</td>\n",
       "    </tr>\n",
       "    <tr>\n",
       "      <th>Ford High School</th>\n",
       "      <th>District</th>\n",
       "      <th>1763916</th>\n",
       "      <td>2739</td>\n",
       "      <td>$644.00</td>\n",
       "      <td>77.10%</td>\n",
       "      <td>80.75%</td>\n",
       "      <td>65.75%</td>\n",
       "      <td>65.75%</td>\n",
       "      <td>65.75%</td>\n",
       "    </tr>\n",
       "    <tr>\n",
       "      <th>Griffin High School</th>\n",
       "      <th>Charter</th>\n",
       "      <th>917500</th>\n",
       "      <td>1468</td>\n",
       "      <td>$625.00</td>\n",
       "      <td>83.35%</td>\n",
       "      <td>83.82%</td>\n",
       "      <td>89.71%</td>\n",
       "      <td>89.71%</td>\n",
       "      <td>89.71%</td>\n",
       "    </tr>\n",
       "  </tbody>\n",
       "</table>\n",
       "</div>"
      ],
      "text/plain": [
       "                                       Total Number of Students  \\\n",
       "school_name          type     budget                              \n",
       "Bailey High School   District 3124928                      4976   \n",
       "Cabrera High School  Charter  1081356                      1858   \n",
       "Figueroa High School District 1884411                      2949   \n",
       "Ford High School     District 1763916                      2739   \n",
       "Griffin High School  Charter  917500                       1468   \n",
       "\n",
       "                                      Per Student Budget Average Math Score  \\\n",
       "school_name          type     budget                                          \n",
       "Bailey High School   District 3124928            $628.00             77.05%   \n",
       "Cabrera High School  Charter  1081356            $582.00             83.06%   \n",
       "Figueroa High School District 1884411            $639.00             76.71%   \n",
       "Ford High School     District 1763916            $644.00             77.10%   \n",
       "Griffin High School  Charter  917500             $625.00             83.35%   \n",
       "\n",
       "                                      Average Reading Score  \\\n",
       "school_name          type     budget                          \n",
       "Bailey High School   District 3124928                81.03%   \n",
       "Cabrera High School  Charter  1081356                83.98%   \n",
       "Figueroa High School District 1884411                81.16%   \n",
       "Ford High School     District 1763916                80.75%   \n",
       "Griffin High School  Charter  917500                 83.82%   \n",
       "\n",
       "                                      Overall Passing Rate  \\\n",
       "school_name          type     budget                         \n",
       "Bailey High School   District 3124928               64.63%   \n",
       "Cabrera High School  Charter  1081356               89.56%   \n",
       "Figueroa High School District 1884411               63.75%   \n",
       "Ford High School     District 1763916               65.75%   \n",
       "Griffin High School  Charter  917500                89.71%   \n",
       "\n",
       "                                      Percent Who Passed Math  \\\n",
       "school_name          type     budget                            \n",
       "Bailey High School   District 3124928                  64.63%   \n",
       "Cabrera High School  Charter  1081356                  89.56%   \n",
       "Figueroa High School District 1884411                  63.75%   \n",
       "Ford High School     District 1763916                  65.75%   \n",
       "Griffin High School  Charter  917500                   89.71%   \n",
       "\n",
       "                                      Percent Who Passed Reading  \n",
       "school_name          type     budget                              \n",
       "Bailey High School   District 3124928                     64.63%  \n",
       "Cabrera High School  Charter  1081356                     89.56%  \n",
       "Figueroa High School District 1884411                     63.75%  \n",
       "Ford High School     District 1763916                     65.75%  \n",
       "Griffin High School  Charter  917500                      89.71%  "
      ]
     },
     "execution_count": 25,
     "metadata": {},
     "output_type": "execute_result"
    }
   ],
   "source": [
    "dfstudfinal['Per Student Budget']               = dfstudfinal['Per Student Budget'].map('${:,.2f}'.format)\n",
    "dfstudfinal['Average Math Score']         = dfstudfinal['Average Math Score'].map('{0:,.2f}%'.format)\n",
    "dfstudfinal['Average Reading Score']      = dfstudfinal['Average Reading Score'].map('{0:,.2f}%'.format)\n",
    "dfstudfinal['Overall Passing Rate']       = dfstudfinal['Overall Passing Rate'].map('{0:,.2f}%'.format)\n",
    "dfstudfinal['Percent Who Passed Math']    = dfstudfinal['Percent Who Passed Math'].map('{0:,.2f}%'.format)\n",
    "dfstudfinal['Percent Who Passed Reading'] = dfstudfinal['Percent Who Passed Reading'].map(\"{0:.2f}%\".format)\n",
    "dfstudfinal.head()"
   ]
  },
  {
   "cell_type": "markdown",
   "metadata": {},
   "source": [
    "## Top Performing Schools (By Passing Rate)\n",
    "\n",
    "* Sort and display the top five schools in overall passing rate"
   ]
  },
  {
   "cell_type": "code",
   "execution_count": 26,
   "metadata": {},
   "outputs": [
    {
     "data": {
      "text/html": [
       "<div>\n",
       "<style scoped>\n",
       "    .dataframe tbody tr th:only-of-type {\n",
       "        vertical-align: middle;\n",
       "    }\n",
       "\n",
       "    .dataframe tbody tr th {\n",
       "        vertical-align: top;\n",
       "    }\n",
       "\n",
       "    .dataframe thead th {\n",
       "        text-align: right;\n",
       "    }\n",
       "</style>\n",
       "<table border=\"1\" class=\"dataframe\">\n",
       "  <thead>\n",
       "    <tr style=\"text-align: right;\">\n",
       "      <th></th>\n",
       "      <th></th>\n",
       "      <th></th>\n",
       "      <th>Total Number of Students</th>\n",
       "      <th>Per Student Budget</th>\n",
       "      <th>Average Math Score</th>\n",
       "      <th>Average Reading Score</th>\n",
       "      <th>Overall Passing Rate</th>\n",
       "      <th>Percent Who Passed Math</th>\n",
       "      <th>Percent Who Passed Reading</th>\n",
       "    </tr>\n",
       "    <tr>\n",
       "      <th>school_name</th>\n",
       "      <th>type</th>\n",
       "      <th>budget</th>\n",
       "      <th></th>\n",
       "      <th></th>\n",
       "      <th></th>\n",
       "      <th></th>\n",
       "      <th></th>\n",
       "      <th></th>\n",
       "      <th></th>\n",
       "    </tr>\n",
       "  </thead>\n",
       "  <tbody>\n",
       "    <tr>\n",
       "      <th>Huang High School</th>\n",
       "      <th>District</th>\n",
       "      <th>1910635</th>\n",
       "      <td>2917</td>\n",
       "      <td>$655.00</td>\n",
       "      <td>76.63%</td>\n",
       "      <td>81.18%</td>\n",
       "      <td>63.32%</td>\n",
       "      <td>63.32%</td>\n",
       "      <td>63.32%</td>\n",
       "    </tr>\n",
       "    <tr>\n",
       "      <th>Figueroa High School</th>\n",
       "      <th>District</th>\n",
       "      <th>1884411</th>\n",
       "      <td>2949</td>\n",
       "      <td>$639.00</td>\n",
       "      <td>76.71%</td>\n",
       "      <td>81.16%</td>\n",
       "      <td>63.75%</td>\n",
       "      <td>63.75%</td>\n",
       "      <td>63.75%</td>\n",
       "    </tr>\n",
       "    <tr>\n",
       "      <th>Johnson High School</th>\n",
       "      <th>District</th>\n",
       "      <th>3094650</th>\n",
       "      <td>4761</td>\n",
       "      <td>$650.00</td>\n",
       "      <td>77.07%</td>\n",
       "      <td>80.97%</td>\n",
       "      <td>63.85%</td>\n",
       "      <td>63.85%</td>\n",
       "      <td>63.85%</td>\n",
       "    </tr>\n",
       "    <tr>\n",
       "      <th>Rodriguez High School</th>\n",
       "      <th>District</th>\n",
       "      <th>2547363</th>\n",
       "      <td>3999</td>\n",
       "      <td>$637.00</td>\n",
       "      <td>76.84%</td>\n",
       "      <td>80.74%</td>\n",
       "      <td>64.07%</td>\n",
       "      <td>64.07%</td>\n",
       "      <td>64.07%</td>\n",
       "    </tr>\n",
       "    <tr>\n",
       "      <th>Bailey High School</th>\n",
       "      <th>District</th>\n",
       "      <th>3124928</th>\n",
       "      <td>4976</td>\n",
       "      <td>$628.00</td>\n",
       "      <td>77.05%</td>\n",
       "      <td>81.03%</td>\n",
       "      <td>64.63%</td>\n",
       "      <td>64.63%</td>\n",
       "      <td>64.63%</td>\n",
       "    </tr>\n",
       "  </tbody>\n",
       "</table>\n",
       "</div>"
      ],
      "text/plain": [
       "                                        Total Number of Students  \\\n",
       "school_name           type     budget                              \n",
       "Huang High School     District 1910635                      2917   \n",
       "Figueroa High School  District 1884411                      2949   \n",
       "Johnson High School   District 3094650                      4761   \n",
       "Rodriguez High School District 2547363                      3999   \n",
       "Bailey High School    District 3124928                      4976   \n",
       "\n",
       "                                       Per Student Budget Average Math Score  \\\n",
       "school_name           type     budget                                          \n",
       "Huang High School     District 1910635            $655.00             76.63%   \n",
       "Figueroa High School  District 1884411            $639.00             76.71%   \n",
       "Johnson High School   District 3094650            $650.00             77.07%   \n",
       "Rodriguez High School District 2547363            $637.00             76.84%   \n",
       "Bailey High School    District 3124928            $628.00             77.05%   \n",
       "\n",
       "                                       Average Reading Score  \\\n",
       "school_name           type     budget                          \n",
       "Huang High School     District 1910635                81.18%   \n",
       "Figueroa High School  District 1884411                81.16%   \n",
       "Johnson High School   District 3094650                80.97%   \n",
       "Rodriguez High School District 2547363                80.74%   \n",
       "Bailey High School    District 3124928                81.03%   \n",
       "\n",
       "                                       Overall Passing Rate  \\\n",
       "school_name           type     budget                         \n",
       "Huang High School     District 1910635               63.32%   \n",
       "Figueroa High School  District 1884411               63.75%   \n",
       "Johnson High School   District 3094650               63.85%   \n",
       "Rodriguez High School District 2547363               64.07%   \n",
       "Bailey High School    District 3124928               64.63%   \n",
       "\n",
       "                                       Percent Who Passed Math  \\\n",
       "school_name           type     budget                            \n",
       "Huang High School     District 1910635                  63.32%   \n",
       "Figueroa High School  District 1884411                  63.75%   \n",
       "Johnson High School   District 3094650                  63.85%   \n",
       "Rodriguez High School District 2547363                  64.07%   \n",
       "Bailey High School    District 3124928                  64.63%   \n",
       "\n",
       "                                       Percent Who Passed Reading  \n",
       "school_name           type     budget                              \n",
       "Huang High School     District 1910635                     63.32%  \n",
       "Figueroa High School  District 1884411                     63.75%  \n",
       "Johnson High School   District 3094650                     63.85%  \n",
       "Rodriguez High School District 2547363                     64.07%  \n",
       "Bailey High School    District 3124928                     64.63%  "
      ]
     },
     "execution_count": 26,
     "metadata": {},
     "output_type": "execute_result"
    }
   ],
   "source": [
    "top5 = dfstudfinalunformatted.sort_values('Overall Passing Rate')\n",
    "top5['Per Student Budget']         = top5['Per Student Budget'].map('${:,.2f}'.format)\n",
    "top5['Average Math Score']         = top5['Average Math Score'].map('{0:,.2f}%'.format)\n",
    "top5['Average Reading Score']      = top5['Average Reading Score'].map('{0:,.2f}%'.format)\n",
    "top5['Overall Passing Rate']       = top5['Overall Passing Rate'].map('{0:,.2f}%'.format)\n",
    "top5['Percent Who Passed Math']    = top5['Percent Who Passed Math'].map('{0:,.2f}%'.format)\n",
    "top5['Percent Who Passed Reading'] = top5['Percent Who Passed Reading'].map(\"{0:.2f}%\".format)\n",
    "top5.head(5)"
   ]
  },
  {
   "cell_type": "markdown",
   "metadata": {},
   "source": [
    "## Bottom Performing Schools (By Passing Rate)"
   ]
  },
  {
   "cell_type": "markdown",
   "metadata": {},
   "source": [
    "* Sort and display the five worst-performing schools"
   ]
  },
  {
   "cell_type": "code",
   "execution_count": 27,
   "metadata": {},
   "outputs": [
    {
     "data": {
      "text/html": [
       "<div>\n",
       "<style scoped>\n",
       "    .dataframe tbody tr th:only-of-type {\n",
       "        vertical-align: middle;\n",
       "    }\n",
       "\n",
       "    .dataframe tbody tr th {\n",
       "        vertical-align: top;\n",
       "    }\n",
       "\n",
       "    .dataframe thead th {\n",
       "        text-align: right;\n",
       "    }\n",
       "</style>\n",
       "<table border=\"1\" class=\"dataframe\">\n",
       "  <thead>\n",
       "    <tr style=\"text-align: right;\">\n",
       "      <th></th>\n",
       "      <th></th>\n",
       "      <th></th>\n",
       "      <th>Total Number of Students</th>\n",
       "      <th>Per Student Budget</th>\n",
       "      <th>Average Math Score</th>\n",
       "      <th>Average Reading Score</th>\n",
       "      <th>Overall Passing Rate</th>\n",
       "      <th>Percent Who Passed Math</th>\n",
       "      <th>Percent Who Passed Reading</th>\n",
       "    </tr>\n",
       "    <tr>\n",
       "      <th>school_name</th>\n",
       "      <th>type</th>\n",
       "      <th>budget</th>\n",
       "      <th></th>\n",
       "      <th></th>\n",
       "      <th></th>\n",
       "      <th></th>\n",
       "      <th></th>\n",
       "      <th></th>\n",
       "      <th></th>\n",
       "    </tr>\n",
       "  </thead>\n",
       "  <tbody>\n",
       "    <tr>\n",
       "      <th>Pena High School</th>\n",
       "      <th>Charter</th>\n",
       "      <th>585858</th>\n",
       "      <td>962</td>\n",
       "      <td>$609.00</td>\n",
       "      <td>83.84%</td>\n",
       "      <td>84.04%</td>\n",
       "      <td>91.68%</td>\n",
       "      <td>91.68%</td>\n",
       "      <td>91.68%</td>\n",
       "    </tr>\n",
       "    <tr>\n",
       "      <th>Wilson High School</th>\n",
       "      <th>Charter</th>\n",
       "      <th>1319574</th>\n",
       "      <td>2283</td>\n",
       "      <td>$578.00</td>\n",
       "      <td>83.27%</td>\n",
       "      <td>83.99%</td>\n",
       "      <td>90.93%</td>\n",
       "      <td>90.93%</td>\n",
       "      <td>90.93%</td>\n",
       "    </tr>\n",
       "    <tr>\n",
       "      <th>Holden High School</th>\n",
       "      <th>Charter</th>\n",
       "      <th>248087</th>\n",
       "      <td>427</td>\n",
       "      <td>$581.00</td>\n",
       "      <td>83.80%</td>\n",
       "      <td>83.81%</td>\n",
       "      <td>90.63%</td>\n",
       "      <td>90.63%</td>\n",
       "      <td>90.63%</td>\n",
       "    </tr>\n",
       "    <tr>\n",
       "      <th>Wright High School</th>\n",
       "      <th>Charter</th>\n",
       "      <th>1049400</th>\n",
       "      <td>1800</td>\n",
       "      <td>$583.00</td>\n",
       "      <td>83.68%</td>\n",
       "      <td>83.95%</td>\n",
       "      <td>90.28%</td>\n",
       "      <td>90.28%</td>\n",
       "      <td>90.28%</td>\n",
       "    </tr>\n",
       "    <tr>\n",
       "      <th>Thomas High School</th>\n",
       "      <th>Charter</th>\n",
       "      <th>1043130</th>\n",
       "      <td>1635</td>\n",
       "      <td>$638.00</td>\n",
       "      <td>83.42%</td>\n",
       "      <td>83.85%</td>\n",
       "      <td>90.21%</td>\n",
       "      <td>90.21%</td>\n",
       "      <td>90.21%</td>\n",
       "    </tr>\n",
       "  </tbody>\n",
       "</table>\n",
       "</div>"
      ],
      "text/plain": [
       "                                    Total Number of Students  \\\n",
       "school_name        type    budget                              \n",
       "Pena High School   Charter 585858                        962   \n",
       "Wilson High School Charter 1319574                      2283   \n",
       "Holden High School Charter 248087                        427   \n",
       "Wright High School Charter 1049400                      1800   \n",
       "Thomas High School Charter 1043130                      1635   \n",
       "\n",
       "                                   Per Student Budget Average Math Score  \\\n",
       "school_name        type    budget                                          \n",
       "Pena High School   Charter 585858             $609.00             83.84%   \n",
       "Wilson High School Charter 1319574            $578.00             83.27%   \n",
       "Holden High School Charter 248087             $581.00             83.80%   \n",
       "Wright High School Charter 1049400            $583.00             83.68%   \n",
       "Thomas High School Charter 1043130            $638.00             83.42%   \n",
       "\n",
       "                                   Average Reading Score Overall Passing Rate  \\\n",
       "school_name        type    budget                                               \n",
       "Pena High School   Charter 585858                 84.04%               91.68%   \n",
       "Wilson High School Charter 1319574                83.99%               90.93%   \n",
       "Holden High School Charter 248087                 83.81%               90.63%   \n",
       "Wright High School Charter 1049400                83.95%               90.28%   \n",
       "Thomas High School Charter 1043130                83.85%               90.21%   \n",
       "\n",
       "                                   Percent Who Passed Math  \\\n",
       "school_name        type    budget                            \n",
       "Pena High School   Charter 585858                   91.68%   \n",
       "Wilson High School Charter 1319574                  90.93%   \n",
       "Holden High School Charter 248087                   90.63%   \n",
       "Wright High School Charter 1049400                  90.28%   \n",
       "Thomas High School Charter 1043130                  90.21%   \n",
       "\n",
       "                                   Percent Who Passed Reading  \n",
       "school_name        type    budget                              \n",
       "Pena High School   Charter 585858                      91.68%  \n",
       "Wilson High School Charter 1319574                     90.93%  \n",
       "Holden High School Charter 248087                      90.63%  \n",
       "Wright High School Charter 1049400                     90.28%  \n",
       "Thomas High School Charter 1043130                     90.21%  "
      ]
     },
     "execution_count": 27,
     "metadata": {},
     "output_type": "execute_result"
    }
   ],
   "source": [
    "bottom5 = dfstudfinalunformatted.sort_values('Overall Passing Rate', ascending=False)\n",
    "bottom5['Per Student Budget']         = bottom5['Per Student Budget'].map('${:,.2f}'.format)\n",
    "bottom5['Average Math Score']         = bottom5['Average Math Score'].map('{0:,.2f}%'.format)\n",
    "bottom5['Average Reading Score']      = bottom5['Average Reading Score'].map('{0:,.2f}%'.format)\n",
    "bottom5['Overall Passing Rate']       = bottom5['Overall Passing Rate'].map('{0:,.2f}%'.format)\n",
    "bottom5['Percent Who Passed Math']    = bottom5['Percent Who Passed Math'].map('{0:,.2f}%'.format)\n",
    "bottom5['Percent Who Passed Reading'] = bottom5['Percent Who Passed Reading'].map(\"{0:.2f}%\".format)\n",
    "bottom5.head(5)"
   ]
  },
  {
   "cell_type": "markdown",
   "metadata": {
    "collapsed": true
   },
   "source": [
    "## Math Scores by Grade"
   ]
  },
  {
   "cell_type": "markdown",
   "metadata": {},
   "source": [
    "* Create a table that lists the average Reading Score for students of each grade level (9th, 10th, 11th, 12th) at each school.\n",
    "\n",
    "  * Create a pandas series for each grade. Hint: use a conditional statement.\n",
    "  \n",
    "  * Group each series by school\n",
    "  \n",
    "  * Combine the series into a dataframe\n",
    "  \n",
    "  * Optional: give the displayed data cleaner formatting"
   ]
  },
  {
   "cell_type": "code",
   "execution_count": 29,
   "metadata": {},
   "outputs": [
    {
     "data": {
      "text/html": [
       "<div>\n",
       "<style scoped>\n",
       "    .dataframe tbody tr th:only-of-type {\n",
       "        vertical-align: middle;\n",
       "    }\n",
       "\n",
       "    .dataframe tbody tr th {\n",
       "        vertical-align: top;\n",
       "    }\n",
       "\n",
       "    .dataframe thead th {\n",
       "        text-align: right;\n",
       "    }\n",
       "</style>\n",
       "<table border=\"1\" class=\"dataframe\">\n",
       "  <thead>\n",
       "    <tr style=\"text-align: right;\">\n",
       "      <th></th>\n",
       "      <th></th>\n",
       "      <th>Average Math Score</th>\n",
       "    </tr>\n",
       "    <tr>\n",
       "      <th>school_name</th>\n",
       "      <th>grade</th>\n",
       "      <th></th>\n",
       "    </tr>\n",
       "  </thead>\n",
       "  <tbody>\n",
       "    <tr>\n",
       "      <th rowspan=\"4\" valign=\"top\">Bailey High School</th>\n",
       "      <th>10th</th>\n",
       "      <td>77.00%</td>\n",
       "    </tr>\n",
       "    <tr>\n",
       "      <th>11th</th>\n",
       "      <td>77.52%</td>\n",
       "    </tr>\n",
       "    <tr>\n",
       "      <th>12th</th>\n",
       "      <td>76.49%</td>\n",
       "    </tr>\n",
       "    <tr>\n",
       "      <th>9th</th>\n",
       "      <td>77.08%</td>\n",
       "    </tr>\n",
       "    <tr>\n",
       "      <th rowspan=\"4\" valign=\"top\">Cabrera High School</th>\n",
       "      <th>10th</th>\n",
       "      <td>83.15%</td>\n",
       "    </tr>\n",
       "    <tr>\n",
       "      <th>11th</th>\n",
       "      <td>82.77%</td>\n",
       "    </tr>\n",
       "    <tr>\n",
       "      <th>12th</th>\n",
       "      <td>83.28%</td>\n",
       "    </tr>\n",
       "    <tr>\n",
       "      <th>9th</th>\n",
       "      <td>83.09%</td>\n",
       "    </tr>\n",
       "    <tr>\n",
       "      <th rowspan=\"2\" valign=\"top\">Figueroa High School</th>\n",
       "      <th>10th</th>\n",
       "      <td>76.54%</td>\n",
       "    </tr>\n",
       "    <tr>\n",
       "      <th>11th</th>\n",
       "      <td>76.88%</td>\n",
       "    </tr>\n",
       "  </tbody>\n",
       "</table>\n",
       "</div>"
      ],
      "text/plain": [
       "                           Average Math Score\n",
       "school_name          grade                   \n",
       "Bailey High School   10th              77.00%\n",
       "                     11th              77.52%\n",
       "                     12th              76.49%\n",
       "                     9th               77.08%\n",
       "Cabrera High School  10th              83.15%\n",
       "                     11th              82.77%\n",
       "                     12th              83.28%\n",
       "                     9th               83.09%\n",
       "Figueroa High School 10th              76.54%\n",
       "                     11th              76.88%"
      ]
     },
     "execution_count": 29,
     "metadata": {},
     "output_type": "execute_result"
    }
   ],
   "source": [
    "gbsg = school_data_complete.groupby(['school_name' , 'grade'])\n",
    "avgmath = gbsg['math_score'].mean()\n",
    "mathbygd = pd.DataFrame({'Average Math Score':avgmath})\n",
    "mathbygd['Average Math Score']= mathbygd['Average Math Score'].map('{0:,.2f}%'.format)\n",
    "mathbygd.head(10)"
   ]
  },
  {
   "cell_type": "markdown",
   "metadata": {},
   "source": [
    "## Reading Score by Grade "
   ]
  },
  {
   "cell_type": "markdown",
   "metadata": {},
   "source": [
    "* Perform the same operations as above for reading scores"
   ]
  },
  {
   "cell_type": "code",
   "execution_count": 30,
   "metadata": {},
   "outputs": [
    {
     "data": {
      "text/html": [
       "<div>\n",
       "<style scoped>\n",
       "    .dataframe tbody tr th:only-of-type {\n",
       "        vertical-align: middle;\n",
       "    }\n",
       "\n",
       "    .dataframe tbody tr th {\n",
       "        vertical-align: top;\n",
       "    }\n",
       "\n",
       "    .dataframe thead th {\n",
       "        text-align: right;\n",
       "    }\n",
       "</style>\n",
       "<table border=\"1\" class=\"dataframe\">\n",
       "  <thead>\n",
       "    <tr style=\"text-align: right;\">\n",
       "      <th></th>\n",
       "      <th></th>\n",
       "      <th>Average Reading Score</th>\n",
       "    </tr>\n",
       "    <tr>\n",
       "      <th>school_name</th>\n",
       "      <th>grade</th>\n",
       "      <th></th>\n",
       "    </tr>\n",
       "  </thead>\n",
       "  <tbody>\n",
       "    <tr>\n",
       "      <th rowspan=\"4\" valign=\"top\">Bailey High School</th>\n",
       "      <th>10th</th>\n",
       "      <td>80.91%</td>\n",
       "    </tr>\n",
       "    <tr>\n",
       "      <th>11th</th>\n",
       "      <td>80.95%</td>\n",
       "    </tr>\n",
       "    <tr>\n",
       "      <th>12th</th>\n",
       "      <td>80.91%</td>\n",
       "    </tr>\n",
       "    <tr>\n",
       "      <th>9th</th>\n",
       "      <td>81.30%</td>\n",
       "    </tr>\n",
       "    <tr>\n",
       "      <th rowspan=\"4\" valign=\"top\">Cabrera High School</th>\n",
       "      <th>10th</th>\n",
       "      <td>84.25%</td>\n",
       "    </tr>\n",
       "    <tr>\n",
       "      <th>11th</th>\n",
       "      <td>83.79%</td>\n",
       "    </tr>\n",
       "    <tr>\n",
       "      <th>12th</th>\n",
       "      <td>84.29%</td>\n",
       "    </tr>\n",
       "    <tr>\n",
       "      <th>9th</th>\n",
       "      <td>83.68%</td>\n",
       "    </tr>\n",
       "    <tr>\n",
       "      <th rowspan=\"2\" valign=\"top\">Figueroa High School</th>\n",
       "      <th>10th</th>\n",
       "      <td>81.41%</td>\n",
       "    </tr>\n",
       "    <tr>\n",
       "      <th>11th</th>\n",
       "      <td>80.64%</td>\n",
       "    </tr>\n",
       "  </tbody>\n",
       "</table>\n",
       "</div>"
      ],
      "text/plain": [
       "                           Average Reading Score\n",
       "school_name          grade                      \n",
       "Bailey High School   10th                 80.91%\n",
       "                     11th                 80.95%\n",
       "                     12th                 80.91%\n",
       "                     9th                  81.30%\n",
       "Cabrera High School  10th                 84.25%\n",
       "                     11th                 83.79%\n",
       "                     12th                 84.29%\n",
       "                     9th                  83.68%\n",
       "Figueroa High School 10th                 81.41%\n",
       "                     11th                 80.64%"
      ]
     },
     "execution_count": 30,
     "metadata": {},
     "output_type": "execute_result"
    }
   ],
   "source": [
    "avgread = gbsg['reading_score'].mean()\n",
    "readbygd = pd.DataFrame({'Average Reading Score':avgread})\n",
    "readbygd['Average Reading Score']= readbygd['Average Reading Score'].map('{0:,.2f}%'.format)\n",
    "readbygd.head(10)"
   ]
  },
  {
   "cell_type": "markdown",
   "metadata": {},
   "source": [
    "## Scores by School Spending"
   ]
  },
  {
   "cell_type": "markdown",
   "metadata": {},
   "source": [
    "* Create a table that breaks down school performances based on average Spending Ranges (Per Student). Use 4 reasonable bins to group school spending. Include in the table each of the following:\n",
    "  * Average Math Score\n",
    "  * Average Reading Score\n",
    "  * % Passing Math\n",
    "  * % Passing Reading\n",
    "  * Overall Passing Rate (Average of the above two)"
   ]
  },
  {
   "cell_type": "code",
   "execution_count": 31,
   "metadata": {},
   "outputs": [],
   "source": [
    "# Sample bins. Feel free to create your own bins.\n",
    "spending_bins = [0, 585, 615, 645, 675]\n",
    "group_names = [\"<$585\", \"$585-615\", \"$615-645\", \"$645-675\"]"
   ]
  },
  {
   "cell_type": "code",
   "execution_count": 36,
   "metadata": {},
   "outputs": [
    {
     "data": {
      "text/plain": [
       "Index(['Total Number of Students', 'Per Student Budget', 'Average Math Score',\n",
       "       'Average Reading Score', 'Overall Passing Rate',\n",
       "       'Percent Who Passed Math', 'Percent Who Passed Reading'],\n",
       "      dtype='object')"
      ]
     },
     "execution_count": 36,
     "metadata": {},
     "output_type": "execute_result"
    }
   ],
   "source": [
    "dfstudfinalunformatted.columns"
   ]
  },
  {
   "cell_type": "code",
   "execution_count": 37,
   "metadata": {},
   "outputs": [],
   "source": [
    "byspending = dfstudfinalunformatted[[ 'Per Student Budget', 'Average Math Score',\n",
    "       'Average Reading Score', 'Overall Passing Rate',\n",
    "       'Percent Who Passed Math', 'Percent Who Passed Reading']]"
   ]
  },
  {
   "cell_type": "code",
   "execution_count": null,
   "metadata": {},
   "outputs": [],
   "source": []
  },
  {
   "cell_type": "code",
   "execution_count": null,
   "metadata": {},
   "outputs": [],
   "source": []
  },
  {
   "cell_type": "code",
   "execution_count": null,
   "metadata": {},
   "outputs": [],
   "source": []
  },
  {
   "cell_type": "code",
   "execution_count": null,
   "metadata": {},
   "outputs": [],
   "source": []
  },
  {
   "cell_type": "markdown",
   "metadata": {},
   "source": [
    "## Scores by School Size"
   ]
  },
  {
   "cell_type": "markdown",
   "metadata": {},
   "source": [
    "* Perform the same operations as above, based on school size."
   ]
  },
  {
   "cell_type": "code",
   "execution_count": 33,
   "metadata": {},
   "outputs": [],
   "source": [
    "# Sample bins. Feel free to create your own bins.\n",
    "size_bins = [0, 1000, 2000, 5000]\n",
    "group_names = [\"Small (<1000)\", \"Medium (1000-2000)\", \"Large (2000-5000)\"]"
   ]
  },
  {
   "cell_type": "code",
   "execution_count": null,
   "metadata": {
    "scrolled": true
   },
   "outputs": [],
   "source": []
  },
  {
   "cell_type": "markdown",
   "metadata": {},
   "source": [
    "## Scores by School Type"
   ]
  },
  {
   "cell_type": "markdown",
   "metadata": {},
   "source": [
    "* Perform the same operations as above, based on school type."
   ]
  },
  {
   "cell_type": "code",
   "execution_count": null,
   "metadata": {},
   "outputs": [],
   "source": []
  },
  {
   "cell_type": "code",
   "execution_count": null,
   "metadata": {},
   "outputs": [],
   "source": []
  }
 ],
 "metadata": {
  "anaconda-cloud": {},
  "celltoolbar": "Raw Cell Format",
  "kernel_info": {
   "name": "python3"
  },
  "kernelspec": {
   "display_name": "Python 3",
   "language": "python",
   "name": "python3"
  },
  "language_info": {
   "codemirror_mode": {
    "name": "ipython",
    "version": 3
   },
   "file_extension": ".py",
   "mimetype": "text/x-python",
   "name": "python",
   "nbconvert_exporter": "python",
   "pygments_lexer": "ipython3",
   "version": "3.6.5"
  },
  "nteract": {
   "version": "0.8.4"
  }
 },
 "nbformat": 4,
 "nbformat_minor": 1
}
